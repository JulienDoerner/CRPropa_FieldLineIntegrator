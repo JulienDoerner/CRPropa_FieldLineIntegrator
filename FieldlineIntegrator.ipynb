{
 "cells": [
  {
   "cell_type": "code",
   "execution_count": 1,
   "metadata": {},
   "outputs": [],
   "source": [
    "#%matplotlib notebook\n",
    "import numpy as np\n",
    "from crpropa import *\n",
    "try:\n",
    "    from mayavi import mlab\n",
    "except:\n",
    "    pass\n",
    "import pandas as pd\n",
    "import matplotlib.pyplot as plt"
   ]
  },
  {
   "cell_type": "code",
   "execution_count": 2,
   "metadata": {},
   "outputs": [],
   "source": [
    "import sys\n",
    "sys.path.append(\"./build\")\n",
    "import FieldlineIntegrator as fli"
   ]
  },
  {
   "cell_type": "code",
   "execution_count": 15,
   "metadata": {},
   "outputs": [],
   "source": [
    "def getFieldLine(bfield, pos, length, precision=1e-4, minStep=1*pc, maxStep=1*pc):\n",
    "    \"\"\"Create a field line\"\"\"\n",
    "    \n",
    "    n = int(length/step)\n",
    "    \n",
    "    FLI = fli.FieldlineIntegrator(bfield, precision, minStep, maxStep, False)\n",
    "    FLI2 = fli.FieldlineIntegrator(bfield, precision, minStep, maxStep, True)\n",
    "    \n",
    "    c = Candidate()\n",
    "    c.source.setPosition(pos)\n",
    "    c.current.setPosition(pos)\n",
    "    \n",
    "    fieldline = [np.array(c.current.getPosition())]\n",
    "    \n",
    "    while c.getTrajectoryLength() < length:\n",
    "        FLI.process(c)\n",
    "        fieldline.append(np.array(c.current.getPosition()))\n",
    "    \n",
    "    c.current.setPosition(pos)\n",
    "    while c.getTrajectoryLength() < 2*length:\n",
    "        FLI2.process(c)\n",
    "        fieldline.append(np.array(c.current.getPosition()))\n",
    "        \n",
    "    return np.array(fieldline)"
   ]
  },
  {
   "cell_type": "code",
   "execution_count": 12,
   "metadata": {},
   "outputs": [],
   "source": [
    "bfield = UniformMagneticField(Vector3d(0,0,1))\n",
    "pos = Vector3d(0)\n",
    "length = 10*pc"
   ]
  },
  {
   "cell_type": "code",
   "execution_count": 16,
   "metadata": {},
   "outputs": [
    {
     "data": {
      "text/plain": [
       "array([[  0.,   0.,   0.],\n",
       "       [  0.,   0.,  -1.],\n",
       "       [  0.,   0.,  -2.],\n",
       "       [  0.,   0.,  -3.],\n",
       "       [  0.,   0.,  -4.],\n",
       "       [  0.,   0.,  -5.],\n",
       "       [  0.,   0.,  -6.],\n",
       "       [  0.,   0.,  -7.],\n",
       "       [  0.,   0.,  -8.],\n",
       "       [  0.,   0.,  -9.],\n",
       "       [  0.,   0., -10.],\n",
       "       [  0.,   0.,   1.],\n",
       "       [  0.,   0.,   2.],\n",
       "       [  0.,   0.,   3.],\n",
       "       [  0.,   0.,   4.],\n",
       "       [  0.,   0.,   5.],\n",
       "       [  0.,   0.,   6.],\n",
       "       [  0.,   0.,   7.],\n",
       "       [  0.,   0.,   8.],\n",
       "       [  0.,   0.,   9.],\n",
       "       [  0.,   0.,  10.]])"
      ]
     },
     "execution_count": 16,
     "metadata": {},
     "output_type": "execute_result"
    }
   ],
   "source": [
    "getFieldLine(bfield, pos, length)/pc"
   ]
  },
  {
   "cell_type": "markdown",
   "metadata": {},
   "source": [
    "### Creating magnetic field lines with 20 kpc length\n",
    "#### Field lines starting in a very thin Zylinder around the galactic disc"
   ]
  },
  {
   "cell_type": "code",
   "execution_count": 3,
   "metadata": {},
   "outputs": [],
   "source": [
    "MagField = JF12FieldSolenoidal()\n",
    "\n",
    "step = 1*pc\n",
    "Lmax = 10000*pc\n",
    "N = 10000\n",
    "n = 100\n",
    "FLI = fli.FieldlineIntegrator(MagField, 1e-4, step, step, False)\n",
    "FLI2 = fli.FieldlineIntegrator(MagField, 1e-4, step, step, True)\n",
    "\n",
    "x, y, z, s, connections = [], [], [], [], []\n",
    "\n",
    "PS_List = []\n",
    "\n",
    "for i in range(n):\n",
    "    PS = ParticleState()\n",
    "    src = SourceUniformCylinder(Vector3d(0)*kpc, 0.0*kpc, 6*kpc)\n",
    "    src.prepareParticle(PS)\n",
    "    PS.setId(nucleusId(1,1))\n",
    "    PS_List.append(PS)\n",
    "\n",
    "for i in range(2*n):\n",
    "    \n",
    "    c = Candidate(PS_List[i//2])\n",
    "    if i%2==0:\n",
    "        x.append(c.current.getPosition().x / kpc)\n",
    "        y.append(c.current.getPosition().y / kpc)\n",
    "        z.append(c.current.getPosition().z / kpc)\n",
    "        s.append(0)\n",
    "    count = 1\n",
    "    count = 0\n",
    "    while c.getTrajectoryLength() < Lmax:\n",
    "        if i%2==0: \n",
    "            FLI.process(c)\n",
    "        else:\n",
    "            FLI2.process(c)\n",
    "        x.append(c.current.getPosition().x / kpc)\n",
    "        y.append(c.current.getPosition().y / kpc)\n",
    "        z.append(c.current.getPosition().z / kpc)\n",
    "        s.append(count)\n",
    "        count += 1\n",
    "    connectors = np.vstack([np.arange(0,   N),np.arange(1, N+1)]).T\n",
    "    if i%2==1:\n",
    "        connectors[0][0] = 0\n",
    "    connections.append(connectors)"
   ]
  },
  {
   "cell_type": "code",
   "execution_count": 4,
   "metadata": {},
   "outputs": [],
   "source": [
    "# Create the points\n",
    "src = mlab.pipeline.scalar_scatter(x, y, z, s)\n",
    "mlab.outline()\n",
    "mlab.axes()\n",
    "\n",
    "# Connect them\n",
    "src.mlab_source.dataset.lines = connections\n",
    "src.update()\n",
    "\n",
    "# The stripper-filter cleans up connected lines\n",
    "lines = mlab.pipeline.stripper(src)\n",
    "\n",
    "# Finally, display the set of lines\n",
    "mlab.pipeline.surface(lines, colormap='viridis', line_width=2., opacity=1.)\n",
    "\n",
    "\n",
    "mlab.show()"
   ]
  }
 ],
 "metadata": {
  "kernelspec": {
   "display_name": "Python 3 (ipykernel)",
   "language": "python",
   "name": "python3"
  },
  "language_info": {
   "codemirror_mode": {
    "name": "ipython",
    "version": 3
   },
   "file_extension": ".py",
   "mimetype": "text/x-python",
   "name": "python",
   "nbconvert_exporter": "python",
   "pygments_lexer": "ipython3",
   "version": "3.9.2"
  }
 },
 "nbformat": 4,
 "nbformat_minor": 1
}
